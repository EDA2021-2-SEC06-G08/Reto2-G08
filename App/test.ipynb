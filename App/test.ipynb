{
 "cells": [
  {
   "cell_type": "code",
   "execution_count": 30,
   "metadata": {},
   "outputs": [],
   "source": [
    "import controller as ctl\n",
    "import model\n",
    "import csv\n",
    "import config as cf\n",
    "from DISClib.ADT import list as lt\n",
    "from DISClib.ADT import map as mp\n",
    "from DISClib.DataStructures import mapentry as me\n",
    "from DISClib.Algorithms.Sorting import mergesort as ms\n",
    "from time import process_time as ptime\n",
    "from datetime import datetime as dt\n",
    "from datetime import date, timedelta as td\n",
    "import pickle\n",
    "assert cf\n"
   ]
  },
  {
   "cell_type": "code",
   "execution_count": 24,
   "metadata": {},
   "outputs": [],
   "source": [
    "def loadData(catalog, file):\n",
    "\n",
    "    filename = r\"C:\\Users\\camil\\OneDrive\\Desktop\\Los Andes\\5to Semestre\\EDA\\Retos\\Reto2-G08\\Data/MoMa/Artists-utf8-\"+file\n",
    "    input_file = csv.DictReader(open(filename, encoding=\"utf-8\"))\n",
    "    for artist in input_file:\n",
    "        model.addArtist(catalog, artist)\n",
    "\n",
    "\n",
    "    filename= r\"C:\\Users\\camil\\OneDrive\\Desktop\\Los Andes\\5to Semestre\\EDA\\Retos\\Reto2-G08\\Data/MoMA/Artworks-utf8-\"+file\n",
    "    input_file = csv.DictReader(open(filename, encoding=\"utf-8\"))\n",
    "    for artwork in input_file:\n",
    "        model.addArtwork(catalog, artwork)\n",
    "\n",
    "def loadReq(catalog):\n",
    "    catalog[\"Req4\"] = model.classifyByNation(catalog)\n",
    "    \n",
    "\n",
    "\n",
    "with open(r\"C:\\Users\\camil\\OneDrive\\Desktop\\Los Andes\\5to Semestre\\EDA\\Retos\\Reto2-G08\\Data\\catalogLarge\", \"rb\") as file:\n",
    "     catalog = pickle.load(file)\n",
    "# catalog = ctl.initCatalog()\n",
    "# loadData(catalog)\n",
    "# ctl.sortArtists(catalog)\n",
    "# ctl.sortArtworks(catalog)\n",
    "# loadReq(catalog)"
   ]
  },
  {
   "cell_type": "code",
   "execution_count": 25,
   "metadata": {},
   "outputs": [],
   "source": [
    "import pandas as pd\n"
   ]
  },
  {
   "cell_type": "code",
   "execution_count": 33,
   "metadata": {},
   "outputs": [
    {
     "ename": "AttributeError",
     "evalue": "module 'model' has no attribute 'getArtworksByMedium'",
     "output_type": "error",
     "traceback": [
      "\u001b[1;31m---------------------------------------------------------------------------\u001b[0m",
      "\u001b[1;31mAttributeError\u001b[0m                            Traceback (most recent call last)",
      "\u001b[1;32m<ipython-input-33-db7bf95ee773>\u001b[0m in \u001b[0;36m<module>\u001b[1;34m\u001b[0m\n\u001b[1;32m----> 1\u001b[1;33m \u001b[0mmodel\u001b[0m\u001b[1;33m.\u001b[0m\u001b[0mgetArtworksByMedium\u001b[0m\u001b[1;33m\u001b[0m\u001b[1;33m\u001b[0m\u001b[0m\n\u001b[0m",
      "\u001b[1;31mAttributeError\u001b[0m: module 'model' has no attribute 'getArtworksByMedium'"
     ]
    }
   ],
   "source": [
    "model.getArtworksByMedium"
   ]
  },
  {
   "cell_type": "code",
   "execution_count": 29,
   "metadata": {},
   "outputs": [
    {
     "name": "stdout",
     "output_type": "stream",
     "text": [
      "\n",
      "\n",
      "La función tardo 0.0 ms\n",
      "\n",
      "\n",
      "La función tardo 15.625 ms\n",
      "\n",
      "\n",
      "La función tardo 0.0 ms\n",
      "\n",
      "\n",
      "La función tardo 15.625 ms\n",
      "\n",
      "\n",
      "La función tardo 15.625 ms\n",
      "\n",
      "\n",
      "La función tardo 0.0 ms\n",
      "\n",
      "\n",
      "La función tardo 0.0 ms\n",
      "\n",
      "\n",
      "La función tardo 15.625 ms\n",
      "\n",
      "\n",
      "La función tardo 0.0 ms\n",
      "\n",
      "\n",
      "La función tardo 15.625 ms\n"
     ]
    },
    {
     "ename": "AttributeError",
     "evalue": "module 'model' has no attribute 'getArtworksByMedium'",
     "output_type": "error",
     "traceback": [
      "\u001b[1;31m---------------------------------------------------------------------------\u001b[0m",
      "\u001b[1;31mAttributeError\u001b[0m                            Traceback (most recent call last)",
      "\u001b[1;32m<ipython-input-29-13f954cf6381>\u001b[0m in \u001b[0;36m<module>\u001b[1;34m\u001b[0m\n\u001b[0;32m     22\u001b[0m                 \u001b[0mres\u001b[0m \u001b[1;33m=\u001b[0m \u001b[0meval\u001b[0m\u001b[1;33m(\u001b[0m\u001b[0mfunc\u001b[0m\u001b[1;33m)\u001b[0m\u001b[1;33m(\u001b[0m\u001b[0mcatalog\u001b[0m\u001b[1;33m,\u001b[0m \u001b[1;34m\"1944-06-06\"\u001b[0m\u001b[1;33m,\u001b[0m \u001b[1;34m\"1989-11-09\"\u001b[0m\u001b[1;33m)\u001b[0m\u001b[1;33m\u001b[0m\u001b[1;33m\u001b[0m\u001b[0m\n\u001b[0;32m     23\u001b[0m             \u001b[1;32melif\u001b[0m \u001b[0mi\u001b[0m \u001b[1;33m==\u001b[0m \u001b[1;36m2\u001b[0m\u001b[1;33m:\u001b[0m\u001b[1;33m\u001b[0m\u001b[1;33m\u001b[0m\u001b[0m\n\u001b[1;32m---> 24\u001b[1;33m                 \u001b[0mres\u001b[0m \u001b[1;33m=\u001b[0m \u001b[0meval\u001b[0m\u001b[1;33m(\u001b[0m\u001b[0mfunc\u001b[0m\u001b[1;33m)\u001b[0m\u001b[1;33m(\u001b[0m\u001b[0mcatalog\u001b[0m\u001b[1;33m,\u001b[0m \u001b[1;34m\"Louise Bourgeois\"\u001b[0m\u001b[1;33m)\u001b[0m\u001b[1;33m\u001b[0m\u001b[1;33m\u001b[0m\u001b[0m\n\u001b[0m\u001b[0;32m     25\u001b[0m             \u001b[1;32melif\u001b[0m \u001b[0mi\u001b[0m \u001b[1;33m==\u001b[0m \u001b[1;36m3\u001b[0m\u001b[1;33m:\u001b[0m\u001b[1;33m\u001b[0m\u001b[1;33m\u001b[0m\u001b[0m\n\u001b[0;32m     26\u001b[0m                 \u001b[0mres\u001b[0m \u001b[1;33m=\u001b[0m \u001b[0meval\u001b[0m\u001b[1;33m(\u001b[0m\u001b[0mfunc\u001b[0m\u001b[1;33m)\u001b[0m\u001b[1;33m(\u001b[0m\u001b[0mcatalog\u001b[0m\u001b[1;33m)\u001b[0m\u001b[1;33m\u001b[0m\u001b[1;33m\u001b[0m\u001b[0m\n",
      "\u001b[1;32m<string>\u001b[0m in \u001b[0;36m<module>\u001b[1;34m\u001b[0m\n",
      "\u001b[1;31mAttributeError\u001b[0m: module 'model' has no attribute 'getArtworksByMedium'"
     ]
    }
   ],
   "source": [
    "files = [\"small.csv\", \"10pct.csv\", \"30pct.csv\", \"50pct.csv\", \"large.csv\"]\n",
    "funcs = [\"model.getArtistsCronOrder\", \"model.getArtworksCronOrder\",\"model.getArtworksByMedium\" ,\"model.classifyByNation\", \"model.transportArtwDepartment\"]\n",
    "index = []\n",
    "tests = [[] for _ in range(5)]\n",
    "columns = [\"Func1\", \"Func2\", \"Func4\", \"Func5\"]\n",
    "j = 0\n",
    "for file in files:\n",
    "    catalog = ctl.initCatalog()\n",
    "    loadData(catalog, file)\n",
    "    ctl.sortArtists(catalog)\n",
    "    ctl.sortArtworks(catalog)\n",
    "    loadReq(catalog)\n",
    "    index.append(file[:-4])\n",
    "    i = 0\n",
    "    for func in funcs:\n",
    "        totalt = 0\n",
    "        for _ in range(5):\n",
    "            start = ptime()\n",
    "            if i == 0:\n",
    "                res = eval(func)(catalog, 1920, 1985)\n",
    "            elif i == 1:\n",
    "                res = eval(func)(catalog, \"1944-06-06\", \"1989-11-09\")\n",
    "            elif i == 2:\n",
    "                res = eval(func)(catalog, \"Louise Bourgeois\")\n",
    "            elif i == 3:\n",
    "                res = eval(func)(catalog)\n",
    "            elif i == 4:\n",
    "                res = eval(func)(catalog, \"Drawings & Prints\")\n",
    "            stop = ptime()\n",
    "            totalt += (stop-start)*1000\n",
    "        totalt /= 5\n",
    "        tests[j].append(totalt)\n",
    "\n",
    "        i += 1\n",
    "    j += 1\n",
    "\n",
    "\n",
    "\n",
    "\n",
    "    \n"
   ]
  },
  {
   "cell_type": "code",
   "execution_count": 7,
   "metadata": {},
   "outputs": [
    {
     "data": {
      "text/plain": [
       "[[9.375, 3.125, 37.5, 6.25],\n",
       " [50.0, 140.625, 709.375, 165.625],\n",
       " [81.25, 412.5, 2196.875, 621.875],\n",
       " [100.0, 712.5, 3331.25, 846.875],\n",
       " [125.0, 1543.75, 6384.375, 1718.75]]"
      ]
     },
     "execution_count": 7,
     "metadata": {},
     "output_type": "execute_result"
    }
   ],
   "source": [
    "tests"
   ]
  },
  {
   "cell_type": "code",
   "execution_count": 15,
   "metadata": {},
   "outputs": [],
   "source": [
    "tiempos = pd.DataFrame(index=index, columns=columns, data=tests)"
   ]
  },
  {
   "cell_type": "code",
   "execution_count": 19,
   "metadata": {},
   "outputs": [],
   "source": [
    "tiempos[\"#artists\"] = [1948, 6656, 10063, 12137, 15223]\n",
    "tiempos[\"#artworks\"] = [768, 15008, 43704, 71432, 138150]\n",
    "tiempos[\"req1p\"] = [862, 3231, 5031, 6117, 7664]\n",
    "tiempos[\"req2p\"] = [316, 6504, 19251, 32009, 61484]\n",
    "tiempos[\"req5p\"] = [394, 8133, 23709, 38888, 76117] "
   ]
  },
  {
   "cell_type": "code",
   "execution_count": 20,
   "metadata": {},
   "outputs": [
    {
     "data": {
      "text/html": [
       "<div>\n",
       "<style scoped>\n",
       "    .dataframe tbody tr th:only-of-type {\n",
       "        vertical-align: middle;\n",
       "    }\n",
       "\n",
       "    .dataframe tbody tr th {\n",
       "        vertical-align: top;\n",
       "    }\n",
       "\n",
       "    .dataframe thead th {\n",
       "        text-align: right;\n",
       "    }\n",
       "</style>\n",
       "<table border=\"1\" class=\"dataframe\">\n",
       "  <thead>\n",
       "    <tr style=\"text-align: right;\">\n",
       "      <th></th>\n",
       "      <th>Func1</th>\n",
       "      <th>Func2</th>\n",
       "      <th>Func4</th>\n",
       "      <th>Func5</th>\n",
       "      <th>#artists</th>\n",
       "      <th>#artworks</th>\n",
       "      <th>req1p</th>\n",
       "      <th>req2p</th>\n",
       "      <th>req5p</th>\n",
       "    </tr>\n",
       "  </thead>\n",
       "  <tbody>\n",
       "    <tr>\n",
       "      <th>small</th>\n",
       "      <td>9.375</td>\n",
       "      <td>3.125</td>\n",
       "      <td>37.500</td>\n",
       "      <td>6.250</td>\n",
       "      <td>1948</td>\n",
       "      <td>768</td>\n",
       "      <td>862</td>\n",
       "      <td>316</td>\n",
       "      <td>394</td>\n",
       "    </tr>\n",
       "    <tr>\n",
       "      <th>10pct</th>\n",
       "      <td>50.000</td>\n",
       "      <td>140.625</td>\n",
       "      <td>709.375</td>\n",
       "      <td>165.625</td>\n",
       "      <td>6656</td>\n",
       "      <td>15008</td>\n",
       "      <td>3231</td>\n",
       "      <td>6504</td>\n",
       "      <td>8133</td>\n",
       "    </tr>\n",
       "    <tr>\n",
       "      <th>30pct</th>\n",
       "      <td>81.250</td>\n",
       "      <td>412.500</td>\n",
       "      <td>2196.875</td>\n",
       "      <td>621.875</td>\n",
       "      <td>10063</td>\n",
       "      <td>43704</td>\n",
       "      <td>5031</td>\n",
       "      <td>19251</td>\n",
       "      <td>23709</td>\n",
       "    </tr>\n",
       "    <tr>\n",
       "      <th>50pct</th>\n",
       "      <td>100.000</td>\n",
       "      <td>712.500</td>\n",
       "      <td>3331.250</td>\n",
       "      <td>846.875</td>\n",
       "      <td>12137</td>\n",
       "      <td>71432</td>\n",
       "      <td>6117</td>\n",
       "      <td>32009</td>\n",
       "      <td>38888</td>\n",
       "    </tr>\n",
       "    <tr>\n",
       "      <th>large</th>\n",
       "      <td>125.000</td>\n",
       "      <td>1543.750</td>\n",
       "      <td>6384.375</td>\n",
       "      <td>1718.750</td>\n",
       "      <td>15223</td>\n",
       "      <td>138150</td>\n",
       "      <td>7664</td>\n",
       "      <td>61484</td>\n",
       "      <td>76117</td>\n",
       "    </tr>\n",
       "  </tbody>\n",
       "</table>\n",
       "</div>"
      ],
      "text/plain": [
       "         Func1     Func2     Func4     Func5  #artists  #artworks  req1p  \\\n",
       "small    9.375     3.125    37.500     6.250      1948        768    862   \n",
       "10pct   50.000   140.625   709.375   165.625      6656      15008   3231   \n",
       "30pct   81.250   412.500  2196.875   621.875     10063      43704   5031   \n",
       "50pct  100.000   712.500  3331.250   846.875     12137      71432   6117   \n",
       "large  125.000  1543.750  6384.375  1718.750     15223     138150   7664   \n",
       "\n",
       "       req2p  req5p  \n",
       "small    316    394  \n",
       "10pct   6504   8133  \n",
       "30pct  19251  23709  \n",
       "50pct  32009  38888  \n",
       "large  61484  76117  "
      ]
     },
     "execution_count": 20,
     "metadata": {},
     "output_type": "execute_result"
    }
   ],
   "source": [
    "tiempos"
   ]
  },
  {
   "cell_type": "code",
   "execution_count": null,
   "metadata": {},
   "outputs": [],
   "source": [
    "tiempos.plot.line()"
   ]
  }
 ],
 "metadata": {
  "interpreter": {
   "hash": "2c3187ed738de1786d314e6a543ff822a7395581778a2d07ac44faf833b8e454"
  },
  "kernelspec": {
   "display_name": "Python 3.9.6 64-bit",
   "name": "python3"
  },
  "language_info": {
   "codemirror_mode": {
    "name": "ipython",
    "version": 3
   },
   "file_extension": ".py",
   "mimetype": "text/x-python",
   "name": "python",
   "nbconvert_exporter": "python",
   "pygments_lexer": "ipython3",
   "version": "3.9.6"
  },
  "orig_nbformat": 4
 },
 "nbformat": 4,
 "nbformat_minor": 2
}
